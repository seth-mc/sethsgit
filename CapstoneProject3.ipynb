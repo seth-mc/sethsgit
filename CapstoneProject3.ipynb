{
 "cells": [
  {
   "cell_type": "markdown",
   "metadata": {},
   "source": [
    "<a href=\"https://github.com/seth-mc/sethsgit\"><img src= \"https://i.ibb.co/WtQWBMc/sethlogo.png\" alt=\"sethlogo\" border=\"0\" width = 150 align = left></a>"
   ]
  },
  {
   "cell_type": "markdown",
   "metadata": {},
   "source": [
    "# Capstone Project"
   ]
  },
  {
   "cell_type": "markdown",
   "metadata": {},
   "source": [
    "#### Introduction/Business Problem"
   ]
  },
  {
   "cell_type": "markdown",
   "metadata": {},
   "source": [
    "<p>What is the best hike in the Canadian Rockies? As a avid hiker, I understand how daunting it can be to choose the hike that's right for you. I always appreciate being with someone who knows what their doing - but, during COVID, I'm stuck with the computer. Can I  make a program to be my travel companion through the Rockies? With data from Parks Canada and Foursquare to decide which hike I should do this summer.</p>\n",
    "<ul>\n",
    "    <li>Target Audience:</b> the average tourist or hiker that's looking to find something new in the mountains.</li>\n",
    "    <li>Data Used: Using park Canada's lists (https://www.pc.gc.ca/) and Foursquare's API, I will make a program that decides which hikes are currently the best. </li>\n",
    "</ul>"
   ]
  },
  {
   "cell_type": "code",
   "execution_count": null,
   "metadata": {},
   "outputs": [],
   "source": []
  }
 ],
 "metadata": {
  "kernelspec": {
   "display_name": "Python",
   "language": "python",
   "name": "conda-env-python-py"
  },
  "language_info": {
   "codemirror_mode": {
    "name": "ipython",
    "version": 3
   },
   "file_extension": ".py",
   "mimetype": "text/x-python",
   "name": "python",
   "nbconvert_exporter": "python",
   "pygments_lexer": "ipython3",
   "version": "3.6.10"
  }
 },
 "nbformat": 4,
 "nbformat_minor": 4
}
